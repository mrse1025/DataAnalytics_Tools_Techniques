{
 "cells": [
  {
   "cell_type": "markdown",
   "metadata": {},
   "source": [
    "# Document Scraping Project\n",
    "## Victoria Espinola\n",
    "### BNQ164"
   ]
  },
  {
   "cell_type": "code",
   "execution_count": 56,
   "metadata": {},
   "outputs": [],
   "source": [
    "import PyPDF2\n",
    "import urllib.parse, urllib.request\n",
    "import re\n",
    "from bs4 import BeautifulSoup\n",
    "import nltk\n",
    "from nltk.corpus import stopwords\n",
    "import pandas as pd\n",
    "from os import path\n",
    "from PIL import Image\n",
    "from wordcloud import WordCloud, STOPWORDS, ImageColorGenerator\n",
    "import matplotlib.pyplot as plt"
   ]
  },
  {
   "cell_type": "code",
   "execution_count": 4,
   "metadata": {},
   "outputs": [],
   "source": [
    "def calcFreqList(arg1):\n",
    "    # write your code here\n",
    "    setp = set(arg1)\n",
    "    freq_dict= dict().fromkeys(setp,0)\n",
    "    for x in arg1: \n",
    "        freq_dict[x] += 1\n",
    "    return freq_dict "
   ]
  },
  {
   "cell_type": "code",
   "execution_count": 14,
   "metadata": {},
   "outputs": [
    {
     "name": "stdout",
     "output_type": "stream",
     "text": [
      "         word  frequency\n",
      "0       could          1\n",
      "1    diameter          1\n",
      "2       write          1\n",
      "3    function          6\n",
      "4       solid          5\n",
      "..        ...        ...\n",
      "168   surface          1\n",
      "169  sections          2\n",
      "170       1.1          1\n",
      "171        0.          1\n",
      "172    volume          8\n",
      "\n",
      "[173 rows x 2 columns]\n"
     ]
    }
   ],
   "source": [
    "file1= open(\"teacher5_unknown.pdf\", \"rb\")\n",
    "pdfReader = PyPDF2.PdfFileReader(file1)\n",
    "cleanedWords= list()\n",
    "word_dict=dict()\n",
    "count = 0\n",
    "big1, big2, big3 = 0,0,0\n",
    "for page in range(pdfReader.numPages):\n",
    "    pageObj = pdfReader.getPage(page)\n",
    "    text = (pageObj.extractText())\n",
    "    #print(text)\n",
    "    words= nltk.word_tokenize(text.strip().lower())\n",
    "    for word in words:\n",
    "        stoplist= stopwords.words('english')\n",
    "        length = len(word)\n",
    "        if length !=1 and word not in stoplist:\n",
    "            cleanedWords.append(word)\n",
    "    \n",
    "    \n",
    "word_dict = calcFreqList(cleanedWords)\n",
    "df = pd.DataFrame.from_dict(word_dict, orient='index',columns=['frequency']).reset_index()\n",
    "df.rename(columns={df.columns[0]:'word'},inplace=True)\n",
    "print(df)\n",
    "\n",
    "file1.close()\n"
   ]
  },
  {
   "cell_type": "code",
   "execution_count": 29,
   "metadata": {},
   "outputs": [
    {
     "name": "stdout",
     "output_type": "stream",
     "text": [
      "         word  frequency\n",
      "0       could          1\n",
      "1    diameter          1\n",
      "2       write          1\n",
      "3    function          6\n",
      "4       solid          5\n",
      "..        ...        ...\n",
      "166       per          1\n",
      "167    square          1\n",
      "168   surface          1\n",
      "169  sections          2\n",
      "172    volume          8\n",
      "\n",
      "[150 rows x 2 columns]\n"
     ]
    }
   ],
   "source": [
    "df_sort= df.sort_values(by=['frequency'], ascending = False)\n",
    "df_nonum = df[df.word.str.isalpha()]\n",
    "\n",
    "print(df_nonum)"
   ]
  },
  {
   "cell_type": "code",
   "execution_count": 80,
   "metadata": {},
   "outputs": [],
   "source": [
    "df_nonum.to_csv(\"words.csv\")"
   ]
  }
 ],
 "metadata": {
  "kernelspec": {
   "display_name": "Python 3",
   "language": "python",
   "name": "python3"
  },
  "language_info": {
   "codemirror_mode": {
    "name": "ipython",
    "version": 3
   },
   "file_extension": ".py",
   "mimetype": "text/x-python",
   "name": "python",
   "nbconvert_exporter": "python",
   "pygments_lexer": "ipython3",
   "version": "3.7.6"
  }
 },
 "nbformat": 4,
 "nbformat_minor": 4
}
